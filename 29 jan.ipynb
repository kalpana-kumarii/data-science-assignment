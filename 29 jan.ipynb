{
 "cells": [
  {
   "cell_type": "code",
   "execution_count": null,
   "id": "8c407ba7-7648-4b21-a7b9-51766af104c9",
   "metadata": {},
   "outputs": [],
   "source": [
    "1. who developed the python programming language?\n",
    "Ans- Guido van Rossum"
   ]
  },
  {
   "cell_type": "code",
   "execution_count": null,
   "id": "b34ea757-4584-4668-afed-479c98718c82",
   "metadata": {},
   "outputs": [],
   "source": [
    "2. which type of programming does python support?\n",
    "Ans- Python is dynamically typed and garbage-collected. It supports multiple programming paradigms, \n",
    "including structured (particularly procedural),object-oriented and functional programming. "
   ]
  },
  {
   "cell_type": "code",
   "execution_count": null,
   "id": "3e9e1e15-ca3c-4bce-9cdd-d36bf98352dc",
   "metadata": {},
   "outputs": [],
   "source": [
    "3. Is Python case sensitive when dealing with identifiers? \n",
    "ans- Yes, Python is a case-sensitive language, it treats uppercase and lowercase characters differently."
   ]
  },
  {
   "cell_type": "code",
   "execution_count": null,
   "id": "68a0781f-eb78-4833-8aac-ca0549244bca",
   "metadata": {},
   "outputs": [],
   "source": [
    "4. What is the correct extension of the Python file?\n",
    "ans- .py"
   ]
  },
  {
   "cell_type": "code",
   "execution_count": null,
   "id": "a74e1f66-5703-4286-b137-72b0c121e6bf",
   "metadata": {},
   "outputs": [],
   "source": [
    "5. Is Python code compiled or Interpreted?\n",
    "ans- Python is an interpreted language"
   ]
  },
  {
   "cell_type": "code",
   "execution_count": null,
   "id": "4a794c38-32d1-48e3-bd55-4cee2c06817d",
   "metadata": {},
   "outputs": [],
   "source": [
    "6. Name a few blocks of code used to define in Python language?\n",
    "ans- Examples of Python Programs Showing use of Indentation\n",
    "name = 'pwskills'\n",
    "    \n",
    "if name == 'pwskills':\n",
    "    print('Correct Name!!')\n",
    "else:\n",
    "\tprint('InCorrect Name:(')\n",
    "print('HI')\n"
   ]
  },
  {
   "cell_type": "code",
   "execution_count": null,
   "id": "885d06b6-eedf-4b2e-adef-a945854cbb7c",
   "metadata": {},
   "outputs": [],
   "source": [
    "7. State a character used to give single-line comments in Python?\n",
    "ans- use '#' character before any statement or line of code."
   ]
  },
  {
   "cell_type": "code",
   "execution_count": null,
   "id": "34daedc7-0de9-42eb-97ba-aa2974cd757b",
   "metadata": {},
   "outputs": [
    {
     "ename": "NameError",
     "evalue": "name 'sys' is not defined",
     "output_type": "error",
     "traceback": [
      "\u001b[0;31m---------------------------------------------------------------------------\u001b[0m",
      "\u001b[0;31mNameError\u001b[0m                                 Traceback (most recent call last)",
      "Cell \u001b[0;32mIn[3], line 2\u001b[0m\n\u001b[1;32m      1\u001b[0m \u001b[38;5;66;03m# 8. Mention functions which can help us to find the version of python that we are currently working on?\u001b[39;00m\n\u001b[0;32m----> 2\u001b[0m \u001b[43msys\u001b[49m\u001b[38;5;241m.\u001b[39mversion\n",
      "\u001b[0;31mNameError\u001b[0m: name 'sys' is not defined"
     ]
    }
   ],
   "source": [
    "8. Mention functions which can help us to find the version of python that we are currently working on?\n",
    "ans. - sys.version"
   ]
  },
  {
   "cell_type": "code",
   "execution_count": null,
   "id": "92f77907-5c23-4e57-914b-09dbf330f295",
   "metadata": {},
   "outputs": [],
   "source": [
    "9. Python supports the creation of anonymous functions at runtime, using a construct called\n",
    "ans-Yes, Python supports to make anonymous functions which are not bound to a name(@ runtime).\n",
    "It uses a construct called \"lambda\" ."
   ]
  },
  {
   "cell_type": "code",
   "execution_count": null,
   "id": "bb5ea404-92e7-4ef9-8ac1-eb8acd09abff",
   "metadata": {},
   "outputs": [],
   "source": [
    "10. What does pip stand for python?\n",
    "ans- preferred installer program . it installs packages"
   ]
  },
  {
   "cell_type": "code",
   "execution_count": null,
   "id": "0954bc34-9ec2-4d92-8df5-318ff6157c6a",
   "metadata": {},
   "outputs": [],
   "source": [
    "11. Mention a few built-in functions in python?\n",
    "ans - len(a), find(),count(), index(), pop()"
   ]
  },
  {
   "cell_type": "code",
   "execution_count": null,
   "id": "36974e05-5f11-42ba-8a4d-31e0034ad736",
   "metadata": {},
   "outputs": [],
   "source": [
    "12. What is the maximum possible length of an identifier in Python?\n",
    "ans- 79 characters"
   ]
  },
  {
   "cell_type": "code",
   "execution_count": null,
   "id": "f7547260-75b7-491b-9804-d9ca6638dbb9",
   "metadata": {},
   "outputs": [],
   "source": [
    "13. What are the benefits of using Python?\n",
    "ans- \n",
    "Top Reasons to Learn Python\n",
    "Data science.\n",
    "Scientific and mathematical computing.\n",
    "Web development.\n",
    "Finance and trading.\n",
    "System automation and administration.\n",
    "Computer graphics.\n",
    "Basic game development.\n",
    "Security and penetration testing."
   ]
  },
  {
   "cell_type": "code",
   "execution_count": null,
   "id": "1932fd64-3777-4163-8530-4d248a4e69a0",
   "metadata": {},
   "outputs": [],
   "source": [
    "14. How is memory managed in Python?\n",
    "ans- Memory management in Python involves a private heap containing all Python objects and data structures. \n",
    "The Python memory manager has different components which deal with various dynamic storage management aspects, like sharing, \n",
    "segmentation, preallocation or caching."
   ]
  },
  {
   "cell_type": "code",
   "execution_count": null,
   "id": "b8c05682-2690-45c5-8199-5caf504d23e7",
   "metadata": {},
   "outputs": [],
   "source": [
    "15. How to install Python on Windows and set path variables?\n",
    "ans- Install python from this link https://www.python.org/downloads/\n",
    "After this, install it on your PC. Look for the location where PYTHON has been installed on your PC using tge following command on your command prompt: cmd python.\n",
    "Then go to advanced system settings and add new variable and name it as PYTHON_NAME and paste the copied path.\n",
    "Then look for the path variable, select it's value and select edit\n",
    "Add a semicolon towards the end of the value if it's not present and then type %PYTHON_HOME%"
   ]
  },
  {
   "cell_type": "code",
   "execution_count": null,
   "id": "eb20b973-17c7-4b5b-b778-21dd3f17b218",
   "metadata": {},
   "outputs": [],
   "source": [
    "16. is indentation required in python?\n",
    "ans-  indentation in Python is very important\n",
    "all the statements with the same space to the right, belong to the same code block.\n",
    "It specifies a block of code. All code within loops, classes, functions, etc., is defined within an indented block. \n",
    "It is usually done using four space characters.\n",
    "If your code is not indented necessarily, it will not execute accurately and will throw errors."
   ]
  }
 ],
 "metadata": {
  "kernelspec": {
   "display_name": "Python 3 (ipykernel)",
   "language": "python",
   "name": "python3"
  },
  "language_info": {
   "codemirror_mode": {
    "name": "ipython",
    "version": 3
   },
   "file_extension": ".py",
   "mimetype": "text/x-python",
   "name": "python",
   "nbconvert_exporter": "python",
   "pygments_lexer": "ipython3",
   "version": "3.10.8"
  }
 },
 "nbformat": 4,
 "nbformat_minor": 5
}
