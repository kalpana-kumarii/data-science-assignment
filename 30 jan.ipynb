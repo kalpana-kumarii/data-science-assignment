{
 "cells": [
  {
   "cell_type": "code",
   "execution_count": 3,
   "id": "b9d1887b-c4ab-4382-9fb1-b7d57fc10fab",
   "metadata": {},
   "outputs": [
    {
     "name": "stdin",
     "output_type": "stream",
     "text": [
      "Enter percentage 95\n"
     ]
    },
    {
     "name": "stdout",
     "output_type": "stream",
     "text": [
      "A\n"
     ]
    }
   ],
   "source": [
    "#q1) write a  program to accecpt percentage from the user and display the grade \n",
    "\n",
    "marks= int(input(\"Enter percentage\"))\n",
    "if marks > 90 :\n",
    "           print(\"A\")\n",
    "elif marks > 80 and marks <= 90 :\n",
    "           print(\"B\")\n",
    "elif marks >= 60 and marks <= 80 :\n",
    "           print(\"C\")\n",
    "else :\n",
    "           print(\"D\")           "
   ]
  },
  {
   "cell_type": "code",
   "execution_count": 7,
   "id": "9b57587e-b10d-457b-991f-57b61b76a652",
   "metadata": {},
   "outputs": [
    {
     "name": "stdin",
     "output_type": "stream",
     "text": [
      "Enter price 60000\n"
     ]
    },
    {
     "name": "stdout",
     "output_type": "stream",
     "text": [
      "10%\n"
     ]
    }
   ],
   "source": [
    "#q2) write a  program to accecpt  the cost price of a bike and display the road tax to be paid\n",
    "\n",
    "price= int(input(\"Enter price\"))\n",
    "if price > 100000 :\n",
    "    print(\"15%\")\n",
    "elif price > 50000 and price<= 100000:\n",
    "    print(\"10%\")\n",
    "else :\n",
    "    print(\"5%\")"
   ]
  },
  {
   "cell_type": "code",
   "execution_count": 8,
   "id": "57f18a90-e3d2-482c-b465-0035788eeb0c",
   "metadata": {},
   "outputs": [
    {
     "name": "stdin",
     "output_type": "stream",
     "text": [
      "enter city agra\n"
     ]
    },
    {
     "name": "stdout",
     "output_type": "stream",
     "text": [
      "Taj mahal\n"
     ]
    }
   ],
   "source": [
    "#q3 accept the city from user and display monuments of that city\n",
    "city= input(\"enter city\")\n",
    "if city == \"delhi\" :\n",
    "    print(\"Red fort\")\n",
    "if city == \"agra\" :\n",
    "    print(\"Taj mahal\")\n",
    "if city == \"jaipur\" :\n",
    "    print(\"Jal mahal\")"
   ]
  },
  {
   "cell_type": "code",
   "execution_count": 3,
   "id": "bea46c77-82f3-46f7-83b9-00bfa66fe173",
   "metadata": {},
   "outputs": [
    {
     "data": {
      "text/plain": [
       "4"
      ]
     },
     "execution_count": 3,
     "metadata": {},
     "output_type": "execute_result"
    }
   ],
   "source": [
    "# 4. Check how many times a given number can be divided by 3 before it is less than or equal to 10.\n",
    "\n",
    "c=0\n",
    "for i in range(10) :\n",
    "    if i%3 == 0 :\n",
    "        c=c+1\n",
    "c"
   ]
  },
  {
   "cell_type": "code",
   "execution_count": 13,
   "id": "75bb5131-1c25-4fbb-8921-455dbd3a4afd",
   "metadata": {},
   "outputs": [
    {
     "name": "stdout",
     "output_type": "stream",
     "text": [
      "0\n",
      "1\n",
      "2\n",
      "3\n",
      "4\n"
     ]
    }
   ],
   "source": [
    "# 5. Why and When to Use while Loop in Python give a detailed description with example\n",
    "#Ans- when we need to check condition first then enter to the loop , there we can use while loop\n",
    "# While statement simply loops until a condition is False.\n",
    "i=0\n",
    "while i < 5 :\n",
    "    print(i)\n",
    "    i=i+1"
   ]
  },
  {
   "cell_type": "code",
   "execution_count": 41,
   "id": "9a8f484a-6f99-41dc-9f98-54fee9ce2a0f",
   "metadata": {},
   "outputs": [
    {
     "name": "stdout",
     "output_type": "stream",
     "text": [
      "1st\n",
      "* * * * * \n",
      "* * * * * \n",
      "* * * * * \n",
      "* * * * * \n",
      "* * * * * \n",
      "2nd\n",
      "*     \n",
      "* *    \n",
      "* * *   \n",
      "* * * *  \n",
      "* * * * * \n",
      "3rd\n",
      "* * * * * \n",
      " * * * * \n",
      "  * * * \n",
      "   * * \n",
      "    * \n"
     ]
    }
   ],
   "source": [
    "# 6. Use nested while loop to print 3 different pattern\n",
    "#1st pattern\n",
    "row=5\n",
    "col=5\n",
    "print(\"1st\")\n",
    "i=1\n",
    "while i<=row :\n",
    "    j=1\n",
    "    while j<=col:        \n",
    "        print(\"*\",end=\" \")\n",
    "        j=j+1\n",
    "    print()\n",
    "    i=i+1\n",
    "#2nd pattern\n",
    "print(\"2nd\")\n",
    "i=1\n",
    "while i<=row :\n",
    "    j=1\n",
    "    while j<=col:   \n",
    "        if j<=i:\n",
    "              print(\"*\",end=\" \") \n",
    "        else :\n",
    "             print(end=\" \") \n",
    "        j=j+1\n",
    "    print()\n",
    "    i=i+1\n",
    "#3rd pattern\n",
    "print(\"3rd\")\n",
    "i=1\n",
    "while i<=row :\n",
    "    j=1\n",
    "    while j<=col:   \n",
    "        if  j>=i:\n",
    "              print(\"*\",end=\" \") \n",
    "        else :\n",
    "             print(end=\" \") \n",
    "        j=j+1\n",
    "    print()\n",
    "    i=i+1"
   ]
  },
  {
   "cell_type": "code",
   "execution_count": 32,
   "id": "53a99820-babf-4aa6-a45a-f4be8a735951",
   "metadata": {},
   "outputs": [
    {
     "name": "stdout",
     "output_type": "stream",
     "text": [
      "10\n",
      "9\n",
      "8\n",
      "7\n",
      "6\n",
      "5\n",
      "4\n",
      "3\n",
      "2\n",
      "1\n"
     ]
    }
   ],
   "source": [
    "# 7. Reverse a while loop to display numbers from 10 to 1.\n",
    "n=10\n",
    "while n>0 :\n",
    "        print(n)\n",
    "        n=n-1"
   ]
  },
  {
   "cell_type": "code",
   "execution_count": 12,
   "id": "4984e4d1-2d93-4d06-b70d-cc76aa589376",
   "metadata": {},
   "outputs": [
    {
     "name": "stdout",
     "output_type": "stream",
     "text": [
      "10\n",
      "9\n",
      "8\n",
      "7\n",
      "6\n",
      "5\n",
      "4\n",
      "3\n",
      "2\n",
      "1\n"
     ]
    }
   ],
   "source": [
    "# 8. Reverse a while loop to display numbers from 10 to 1\\\n",
    "n=10\n",
    "while n>0 :\n",
    "        print(n)\n",
    "        n=n-1"
   ]
  },
  {
   "cell_type": "code",
   "execution_count": 4,
   "id": "0fbc6969-2793-493a-ba48-fc28fc115e05",
   "metadata": {},
   "outputs": [
    {
     "data": {
      "text/plain": [
       "9"
      ]
     },
     "execution_count": 4,
     "metadata": {},
     "output_type": "execute_result"
    }
   ],
   "source": [
    "i"
   ]
  },
  {
   "cell_type": "code",
   "execution_count": null,
   "id": "5ab1e86e-c902-448a-91ef-560ac5ed5b1f",
   "metadata": {},
   "outputs": [],
   "source": []
  }
 ],
 "metadata": {
  "kernelspec": {
   "display_name": "Python 3 (ipykernel)",
   "language": "python",
   "name": "python3"
  },
  "language_info": {
   "codemirror_mode": {
    "name": "ipython",
    "version": 3
   },
   "file_extension": ".py",
   "mimetype": "text/x-python",
   "name": "python",
   "nbconvert_exporter": "python",
   "pygments_lexer": "ipython3",
   "version": "3.10.8"
  }
 },
 "nbformat": 4,
 "nbformat_minor": 5
}
