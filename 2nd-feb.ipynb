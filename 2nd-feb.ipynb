{
 "cells": [
  {
   "cell_type": "code",
   "execution_count": 12,
   "id": "fecb19c8-3129-4e44-a76f-b604cf9ff27e",
   "metadata": {},
   "outputs": [
    {
     "name": "stdout",
     "output_type": "stream",
     "text": [
      "for loop eg\n",
      "0\n",
      "1\n",
      "2\n",
      "3\n",
      "4\n",
      "5\n",
      "6\n",
      "7\n",
      "8\n",
      "9\n",
      "while loop eg\n",
      "1\n",
      "2\n",
      "3\n",
      "4\n",
      "5\n",
      "6\n",
      "7\n",
      "8\n",
      "9\n"
     ]
    }
   ],
   "source": [
    "###for loop - when we dont need to check condition there we can use for loop\n",
    "#The for statement iterates through a collection or iterable object or generator function.\n",
    "print(\"for loop eg\")\n",
    "n=10\n",
    "for i in range(10) : \n",
    "    print(i)\n",
    "\n",
    "### while loop-  when we need to check condition first then enter to the loop , there we can use while loop.\n",
    "#The while statement simply loops until a condition is False.\n",
    "print(\"while loop eg\")\n",
    "i=1\n",
    "while i<10 :\n",
    "    print(i)\n",
    "    i+=1"
   ]
  },
  {
   "cell_type": "code",
   "execution_count": 14,
   "id": "d4a8e1aa-8b0c-4190-80aa-4188bae5dd90",
   "metadata": {},
   "outputs": [
    {
     "name": "stdout",
     "output_type": "stream",
     "text": [
      "using for loop\n",
      "sum= 55 product= 3628800\n",
      "using while loop\n",
      "sum= 55 product= 3628800\n"
     ]
    }
   ],
   "source": [
    "# Q2. Write a python program to print the sum and product of the first 10 natural numbers\n",
    "#using for and while loop.\n",
    "print(\"using for loop\")\n",
    "sum=0\n",
    "product=1\n",
    "i=1\n",
    "for i in range(11) :\n",
    "    sum+=i\n",
    "    if i!=0 :\n",
    "        product*=i    \n",
    "print(\"sum=\",sum,\"product=\",product)\n",
    "print(\"using while loop\")\n",
    "sum=0\n",
    "product=1\n",
    "i=1\n",
    "while i<=10 :\n",
    "    sum+=i\n",
    "    product*=i\n",
    "    i+=1\n",
    "print(\"sum=\",sum,\"product=\",product)"
   ]
  },
  {
   "cell_type": "code",
   "execution_count": null,
   "id": "3f177cc5-5ea5-4265-9000-48837fc89637",
   "metadata": {},
   "outputs": [],
   "source": [
    "# The per-unit charges in rupees are as follows: For the first 100 units, the user will be charged Rs. 4.5 per\n",
    "# unit, for the next 100 units, the user will be charged Rs. 6 per unit, and for the next 100 units, the user will\n",
    "# be charged Rs. 10 per unit, After 300 units and above the user will be charged Rs. 20 per unit.\n",
    "# You are required to take the units of electricity consumed in a month from the user as input.\n",
    "# Your program must pass this test case: when the unit of electricity consumed by the user in a month is\n",
    "# 310, the total electricity bill should be 2250.\n",
    "#100 × 4.5 + 100 × 6 + 100 × 10 + 10×20 = 2250\n",
    "\n",
    "eunit = int(input(\"Enter electricity consumed in a month\"))\n",
    "sum=0\n",
    "if eunit <= 100 :\n",
    "    sum=eunit*4.5\n",
    "elif eunit <=200 and eunit >100 :\n",
    "    sum=100*4.5+(eunit-100)*6\n",
    "elif eunit <=300 and eunit >200 :\n",
    "    sum = 100*4.5+100*6+(eunit-200)*10\n",
    "else :\n",
    "    sum=100*4.5+100*6+100*10 (eunit-300)*20\n",
    "sum"
   ]
  },
  {
   "cell_type": "code",
   "execution_count": 16,
   "id": "31235583-3006-4eac-ace1-9fda48e2ee02",
   "metadata": {},
   "outputs": [],
   "source": [
    "# Q4. Create a list of numbers from 1 to 100. Use for loop and while loop to calculate the cube of each\n",
    "# number and if the cube of that number is divisible by 4 or 5 then append that number in a list and print\n",
    "# that list.\n",
    "l1=[]\n",
    "\n",
    "for i in range(1,101,1):\n",
    "    l1.append(i)\n",
    "l2=[]\n",
    "for i in l1:\n",
    "    if i%4==0 or i%5==0:\n",
    "        l2.append(i)\n"
   ]
  },
  {
   "cell_type": "code",
   "execution_count": 17,
   "id": "a5660b54-2d4f-43d6-b14e-8349ec7b46a2",
   "metadata": {},
   "outputs": [
    {
     "data": {
      "text/plain": [
       "[4,\n",
       " 5,\n",
       " 8,\n",
       " 10,\n",
       " 12,\n",
       " 15,\n",
       " 16,\n",
       " 20,\n",
       " 24,\n",
       " 25,\n",
       " 28,\n",
       " 30,\n",
       " 32,\n",
       " 35,\n",
       " 36,\n",
       " 40,\n",
       " 44,\n",
       " 45,\n",
       " 48,\n",
       " 50,\n",
       " 52,\n",
       " 55,\n",
       " 56,\n",
       " 60,\n",
       " 64,\n",
       " 65,\n",
       " 68,\n",
       " 70,\n",
       " 72,\n",
       " 75,\n",
       " 76,\n",
       " 80,\n",
       " 84,\n",
       " 85,\n",
       " 88,\n",
       " 90,\n",
       " 92,\n",
       " 95,\n",
       " 96,\n",
       " 100]"
      ]
     },
     "execution_count": 17,
     "metadata": {},
     "output_type": "execute_result"
    }
   ],
   "source": [
    "l2"
   ]
  },
  {
   "cell_type": "code",
   "execution_count": 26,
   "id": "cecf828a-1f21-4a2b-87f0-74dea3e770cc",
   "metadata": {},
   "outputs": [
    {
     "name": "stdout",
     "output_type": "stream",
     "text": [
      "12\n"
     ]
    }
   ],
   "source": [
    "# Q5. Write a program to filter count vowels in the below-given string.\n",
    "# string = \"I want to become a data scientist\"\n",
    "count=0\n",
    "string = \"I want to become a data scientist\"\n",
    "string=string.lower()\n",
    "for i in string :\n",
    "     if i == 'a' or i == 'e' or i == 'i' or i == 'o' or i=='u' :\n",
    "             count=count+1             \n",
    "print(count)"
   ]
  },
  {
   "cell_type": "code",
   "execution_count": null,
   "id": "3229bf48-f644-4aaa-8e25-10e4e062972e",
   "metadata": {},
   "outputs": [],
   "source": []
  }
 ],
 "metadata": {
  "kernelspec": {
   "display_name": "Python 3 (ipykernel)",
   "language": "python",
   "name": "python3"
  },
  "language_info": {
   "codemirror_mode": {
    "name": "ipython",
    "version": 3
   },
   "file_extension": ".py",
   "mimetype": "text/x-python",
   "name": "python",
   "nbconvert_exporter": "python",
   "pygments_lexer": "ipython3",
   "version": "3.10.8"
  }
 },
 "nbformat": 4,
 "nbformat_minor": 5
}
