{
 "cells": [
  {
   "cell_type": "code",
   "execution_count": null,
   "id": "1bddc819-3f9b-4e98-8ea1-38b78861f6eb",
   "metadata": {},
   "outputs": [],
   "source": [
    "Q1. Explain Class and Object with respect to Object-Oriented Programming. Give a suitable example.\n",
    "Q2. Name the four pillars of OOPs.\n",
    "Q3. Explain why the __init__() function is used. Give a suitable example.\n",
    "Q4. Why self is used in OOPs?\n",
    "Q5. What is inheritance? Give an example for each type of inheritance."
   ]
  },
  {
   "cell_type": "code",
   "execution_count": 2,
   "id": "181337aa-769a-41c4-9b2a-526c4af49590",
   "metadata": {},
   "outputs": [
    {
     "name": "stdout",
     "output_type": "stream",
     "text": [
      "welcome\n"
     ]
    }
   ],
   "source": [
    "# Q1. Explain Class and Object with respect to Object-Oriented Programming. Give a suitable example.\n",
    "#ans- classses is a blueprint for object .classes have properties and behaviour.\n",
    "#class define\n",
    "class test:\n",
    "    def welcome(self):\n",
    "        print(\"welcome\")\n",
    "#object creating\n",
    "rohan= test()\n",
    "rohan.welcome()"
   ]
  },
  {
   "cell_type": "code",
   "execution_count": 3,
   "id": "2620381f-c6e0-4c49-9096-35153b29231d",
   "metadata": {},
   "outputs": [],
   "source": [
    "# Q2. Name the four pillars of OOPs.\n",
    "#ans- Inheritance, Polymorphism, Encapsulation and Abstraction."
   ]
  },
  {
   "cell_type": "code",
   "execution_count": 8,
   "id": "c51ad54a-554d-47b5-917a-5614e7f2962f",
   "metadata": {},
   "outputs": [],
   "source": [
    "# Q3. Explain why the __init__() function is used. Give a suitable example.\n",
    "#ans- __init__() is a constructor for intializing variable during object creation.\n",
    "\n",
    "class test:\n",
    "    def __init__(self,s):\n",
    "        self.s=s\n",
    "        \n",
    "    def welcome(self):        \n",
    "        return self.s\n",
    "       \n",
    "#object creating\n",
    "rohan= test(\"roahn\")\n"
   ]
  },
  {
   "cell_type": "code",
   "execution_count": 9,
   "id": "21fa119f-cce0-42e3-9bf0-334a30e3e999",
   "metadata": {},
   "outputs": [
    {
     "data": {
      "text/plain": [
       "'roahn'"
      ]
     },
     "execution_count": 9,
     "metadata": {},
     "output_type": "execute_result"
    }
   ],
   "source": [
    "rohan.welcome()"
   ]
  },
  {
   "cell_type": "code",
   "execution_count": 10,
   "id": "14e514b2-1b69-4d50-a20d-de1447f7aa20",
   "metadata": {},
   "outputs": [],
   "source": [
    "# Q4. Why self is used in OOPs?\n",
    "\n",
    "#ans - self is a reference or pointer\n",
    "# The self parameter is a reference to the current instance or object of the class, \n",
    "# and is used to access variables that belongs to the class.\n",
    "# It does not have to be named self , you can call it whatever you like,\n",
    "# but it has to be the first parameter of any function in the class:\n",
    "#in python without self argument in function we cannt able to run function it will give error."
   ]
  },
  {
   "cell_type": "code",
   "execution_count": null,
   "id": "c0e051f3-84cc-4d90-b06c-7528f735738f",
   "metadata": {},
   "outputs": [],
   "source": [
    "# Q5. What is inheritance? Give an example for each type of inheritance.\n",
    "#ans - Inheritance is the one of the piller of oops programming .\n",
    "# Inheritance allows us to define a class that inherits all the methods and properties from another class.\n",
    "# in ineritance dervied class can access all the property of base class or other class"
   ]
  }
 ],
 "metadata": {
  "kernelspec": {
   "display_name": "Python 3 (ipykernel)",
   "language": "python",
   "name": "python3"
  },
  "language_info": {
   "codemirror_mode": {
    "name": "ipython",
    "version": 3
   },
   "file_extension": ".py",
   "mimetype": "text/x-python",
   "name": "python",
   "nbconvert_exporter": "python",
   "pygments_lexer": "ipython3",
   "version": "3.10.8"
  }
 },
 "nbformat": 4,
 "nbformat_minor": 5
}
