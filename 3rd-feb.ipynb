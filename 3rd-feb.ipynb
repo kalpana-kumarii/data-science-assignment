{
 "cells": [
  {
   "cell_type": "code",
   "execution_count": 1,
   "id": "1d11de00-b370-4cb8-b226-a564aca152e1",
   "metadata": {},
   "outputs": [],
   "source": [
    "# Q1. Which keyword is used to create a function? Create a function to return a list of odd numbers in the\n",
    "# range of 1 to 25.\n",
    "# Q2. Why *args and **kwargs is used in some functions? Create a function each for *args and **kwargs\n",
    "# to demonstrate their use.\n",
    "# Q3. What is an iterator in python? Name the method used to initialise the iterator object and the method\n",
    "# used for iteration. Use these methods to print the first five elements of the given list [2, 4, 6, 8, 10, 12, 14,\n",
    "# 16, 18, 20].\n",
    "# Q4. What is a generator function in python? Why yield keyword is used? Give an example of a generator\n",
    "# function.\n",
    "# Q5. Create a generator function for prime numbers less than 1000. Use the next() method to print the\n",
    "# first 20 prime numbers.\n",
    "# Q6. Write a python program to print the first 10 Fibonacci numbers using a while loop.\n",
    "# Q7. Write a List Comprehension to iterate through the given string: ‘pwskills’.\n",
    "# Expected output: ['p', 'w', 's', 'k', 'i', 'l', 'l', 's']\n",
    "# Q8. Write a python program to check whether a given number is Palindrome or not using a while loop.\n",
    "# Q9. Write a code to print odd numbers from 1 to 100 using list comprehension.\n",
    "# Note: Use a list comprehension to create a list from 1 to 100 and use another List comprehension to filter\n",
    "# out odd numbers."
   ]
  },
  {
   "cell_type": "code",
   "execution_count": 2,
   "id": "ba7a7f26-2df3-4af8-ad3c-3abb084c514f",
   "metadata": {},
   "outputs": [
    {
     "data": {
      "text/plain": [
       "325"
      ]
     },
     "execution_count": 2,
     "metadata": {},
     "output_type": "execute_result"
    }
   ],
   "source": [
    "# Q1. Which keyword is used to create a function? Create a function to return a list of odd numbers in the\n",
    "# range of 1 to 25.\n",
    "# def keyword isa used to create function.\n",
    "\n",
    "def add():\n",
    "    sum=0\n",
    "    for i in range(1,26,1):\n",
    "        sum+=i\n",
    "    return sum\n",
    "\n",
    "add()"
   ]
  },
  {
   "cell_type": "code",
   "execution_count": 12,
   "id": "a801c750-c8b4-4ff2-8992-f8eecb042c51",
   "metadata": {},
   "outputs": [
    {
     "name": "stdout",
     "output_type": "stream",
     "text": [
      "()\n",
      "(2, 3, 4)\n",
      "{}\n",
      "{'a': 'hello', 'b': 2}\n"
     ]
    }
   ],
   "source": [
    "# Q2. Why *args and **kwargs is used in some functions? Create a function each for *args and **kwargs\n",
    "# to demonstrate their use.\n",
    "#ans- *args is used to receive multiple argument from function calling\n",
    "def test1(*args):\n",
    "    return args\n",
    "\n",
    "print(test1())\n",
    "print(test1(2,3,4))\n",
    "\n",
    "# **kwargs is uesd to take key value pair\n",
    "def test2(**kwargs):\n",
    "    return kwargs\n",
    "\n",
    "print(test2())\n",
    "print(test2(a=\"hello\",b=2))\n"
   ]
  },
  {
   "cell_type": "code",
   "execution_count": 8,
   "id": "32ea6a39-1f7e-400e-9cb9-a84738acfbcd",
   "metadata": {},
   "outputs": [
    {
     "name": "stdout",
     "output_type": "stream",
     "text": [
      "2\n",
      "4\n",
      "6\n",
      "8\n",
      "10\n"
     ]
    }
   ],
   "source": [
    "# Q3. What is an iterator in python? Name the method used to initialise the iterator object and the method\n",
    "# used for iteration. Use these methods to print the first five elements of the given list [2, 4, 6, 8, 10, 12, 14,\n",
    "# 16, 18, 20].\n",
    "\n",
    "#ans-\n",
    "#An iterator is an object that contains a countable number of values.\n",
    "#An iterator is an object that can be iterated upon, meaning that you can traverse through all the values.\n",
    "#The iter() method is used to create the iterator over the iterable object.\n",
    "#It returns an iterator for the object you give it.\n",
    "#The next() method returns the next item from the iterator.\n",
    "\n",
    "l= [2, 4, 6, 8, 10, 12, 14, 16, 18, 20]\n",
    "l1=iter(l)\n",
    "for i in range(5):\n",
    "    if i==5:\n",
    "        break\n",
    "    print(next(l1))\n",
    "\n"
   ]
  },
  {
   "cell_type": "code",
   "execution_count": 36,
   "id": "b135a723-f97b-40f0-999f-2da5ae024fb4",
   "metadata": {},
   "outputs": [],
   "source": [
    "# Q4. What is a generator function in python? Why yield keyword is used? Give an example of a generator\n",
    "# function.\n",
    "\n",
    "def generator_fun(a):\n",
    "    b=0\n",
    "    while a>0:        \n",
    "        b=a\n",
    "        yield b\n",
    "        a-=1    \n",
    "    return b\n"
   ]
  },
  {
   "cell_type": "code",
   "execution_count": 54,
   "id": "5675aa8c-94a6-42ba-ba9e-f2e49470dd4b",
   "metadata": {},
   "outputs": [
    {
     "name": "stdout",
     "output_type": "stream",
     "text": [
      "10 9 8 7 6 5 4 3 2 1 "
     ]
    }
   ],
   "source": [
    " # generator_fun(10)\n",
    "for i in generator_fun(10):\n",
    "    print(i,end=\" \")"
   ]
  },
  {
   "cell_type": "code",
   "execution_count": 14,
   "id": "288372e5-f367-4425-9c27-889d731ddf1f",
   "metadata": {},
   "outputs": [],
   "source": [
    "# Q5. Create a generator function for prime numbers less than 1000. Use the next() method to print the\n",
    "# first 20 prime numbers.\n",
    "def prime_no():\n",
    "    i=2\n",
    "    while i<1000:\n",
    "        j=2\n",
    "        while j<i:\n",
    "            if i%j==0 and i!=j:\n",
    "                break\n",
    "            j+=1\n",
    "        else :\n",
    "            yield i\n",
    "        i+=1 "
   ]
  },
  {
   "cell_type": "code",
   "execution_count": 17,
   "id": "7e6317bb-41d6-4d0f-af24-f1e82b2d10d9",
   "metadata": {},
   "outputs": [
    {
     "data": {
      "text/plain": [
       "generator"
      ]
     },
     "execution_count": 17,
     "metadata": {},
     "output_type": "execute_result"
    }
   ],
   "source": [
    "prime=prime_no()\n",
    "type(prime1)"
   ]
  },
  {
   "cell_type": "code",
   "execution_count": 18,
   "id": "9a630a86-aecb-49f1-b5b9-c6aeee71a36d",
   "metadata": {},
   "outputs": [
    {
     "name": "stdout",
     "output_type": "stream",
     "text": [
      "2\n",
      "3\n",
      "5\n",
      "7\n",
      "11\n",
      "13\n",
      "17\n",
      "19\n",
      "23\n",
      "29\n",
      "31\n",
      "37\n",
      "41\n",
      "43\n",
      "47\n",
      "53\n",
      "59\n",
      "61\n",
      "67\n",
      "71\n"
     ]
    }
   ],
   "source": [
    "\n",
    "for i in range(20):\n",
    "    print(next(prime))"
   ]
  },
  {
   "cell_type": "code",
   "execution_count": 19,
   "id": "57b3c199-ad99-4b7e-a388-03597ce8e412",
   "metadata": {},
   "outputs": [],
   "source": [
    "# Q6. Write a python program to print the first 10 Fibonacci numbers using a while loop.\n",
    "def fibo(n):\n",
    "    a,b=0,1\n",
    "    while n>0: \n",
    "        yield a\n",
    "        c=a+b\n",
    "        a=b\n",
    "        b=c\n",
    "        n=n-1\n",
    "      \n"
   ]
  },
  {
   "cell_type": "code",
   "execution_count": 20,
   "id": "54ab10cf-acce-4ca0-84f4-e6592a18814e",
   "metadata": {},
   "outputs": [
    {
     "name": "stdout",
     "output_type": "stream",
     "text": [
      "0\n",
      "1\n",
      "1\n",
      "2\n",
      "3\n",
      "5\n",
      "8\n",
      "13\n",
      "21\n",
      "34\n"
     ]
    }
   ],
   "source": [
    "for j in fibo(10):\n",
    "    print(j)"
   ]
  },
  {
   "cell_type": "code",
   "execution_count": 21,
   "id": "b383326d-41ca-4b37-8be3-718d9b28f36e",
   "metadata": {},
   "outputs": [
    {
     "data": {
      "text/plain": [
       "['P', 'W', 'S', 'K', 'I', 'L', 'L', 'S']"
      ]
     },
     "execution_count": 21,
     "metadata": {},
     "output_type": "execute_result"
    }
   ],
   "source": [
    "# # Q7. Write a List Comprehension to iterate through the given string: ‘pwskills’.\n",
    "# Expected output: ['p', 'w', 's', 'k', 'i', 'l', 'l', 's']\n",
    "s= \"pwskills\"\n",
    "# list(map(lambda x: x.upper(),s))\n",
    "# l1=  list(s)\n",
    "[i.upper() for i in list(s)]"
   ]
  },
  {
   "cell_type": "code",
   "execution_count": 23,
   "id": "68e606f2-63f6-4cc2-a6d9-cc8e88a12ec9",
   "metadata": {},
   "outputs": [
    {
     "name": "stdout",
     "output_type": "stream",
     "text": [
      "palindrome\n"
     ]
    }
   ],
   "source": [
    "# Q8. Write a python program to check whether a given number is Palindrome or not using a while loop.\n",
    "s=\"racecar\"\n",
    "j=len(s)-1\n",
    "i=0\n",
    "while i<j:\n",
    "    if s[i]!=s[j]:\n",
    "        print(\"not palindrome\")\n",
    "        break\n",
    "    i+=1\n",
    "    j-=1\n",
    "else :\n",
    "    print(\"palindrome\")"
   ]
  },
  {
   "cell_type": "code",
   "execution_count": 24,
   "id": "9afa7273-aba4-4cb6-8742-10e745b5caaa",
   "metadata": {},
   "outputs": [
    {
     "data": {
      "text/plain": [
       "[1,\n",
       " 3,\n",
       " 5,\n",
       " 7,\n",
       " 9,\n",
       " 11,\n",
       " 13,\n",
       " 15,\n",
       " 17,\n",
       " 19,\n",
       " 21,\n",
       " 23,\n",
       " 25,\n",
       " 27,\n",
       " 29,\n",
       " 31,\n",
       " 33,\n",
       " 35,\n",
       " 37,\n",
       " 39,\n",
       " 41,\n",
       " 43,\n",
       " 45,\n",
       " 47,\n",
       " 49,\n",
       " 51,\n",
       " 53,\n",
       " 55,\n",
       " 57,\n",
       " 59,\n",
       " 61,\n",
       " 63,\n",
       " 65,\n",
       " 67,\n",
       " 69,\n",
       " 71,\n",
       " 73,\n",
       " 75,\n",
       " 77,\n",
       " 79,\n",
       " 81,\n",
       " 83,\n",
       " 85,\n",
       " 87,\n",
       " 89,\n",
       " 91,\n",
       " 93,\n",
       " 95,\n",
       " 97,\n",
       " 99]"
      ]
     },
     "execution_count": 24,
     "metadata": {},
     "output_type": "execute_result"
    }
   ],
   "source": [
    "# Q9. Write a code to print odd numbers from 1 to 100 using list comprehension.\n",
    "# Note: Use a list comprehension to create a list from 1 to 100 and use another List comprehension to filter\n",
    "# out odd numbers.\n",
    "# [i for i in range(100) if i%2!=0]\n",
    "[i for i in range(1,100,2) ]"
   ]
  },
  {
   "cell_type": "code",
   "execution_count": null,
   "id": "e3c73821-068b-4552-a73b-4d9970ddec5b",
   "metadata": {},
   "outputs": [],
   "source": []
  },
  {
   "cell_type": "code",
   "execution_count": null,
   "id": "215789e7-9347-4b9d-be29-63923f1515a9",
   "metadata": {},
   "outputs": [],
   "source": []
  }
 ],
 "metadata": {
  "kernelspec": {
   "display_name": "Python 3 (ipykernel)",
   "language": "python",
   "name": "python3"
  },
  "language_info": {
   "codemirror_mode": {
    "name": "ipython",
    "version": 3
   },
   "file_extension": ".py",
   "mimetype": "text/x-python",
   "name": "python",
   "nbconvert_exporter": "python",
   "pygments_lexer": "ipython3",
   "version": "3.10.8"
  }
 },
 "nbformat": 4,
 "nbformat_minor": 5
}
