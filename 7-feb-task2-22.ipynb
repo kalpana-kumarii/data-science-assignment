{
 "cells": [
  {
   "cell_type": "code",
   "execution_count": 8,
   "id": "16455169-8ed8-43f2-a36a-ae6365df8bab",
   "metadata": {},
   "outputs": [],
   "source": [
    "# Q1. You are writing code for a company. The requirement of the company is that you create a python\n",
    "# function that will check whether the password entered by the user is correct or not. The function should\n",
    "# take the password as input and return the string “Valid Password” if the entered password follows the\n",
    "# below-given password guidelines else it should return “Invalid Password”.\n",
    "# Note: 1. The Password should contain at least two uppercase letters and at least two lowercase letters.\n",
    "# 2. The Password should contain at least a number and three special characters.\n",
    "# 3. The length of the password should be 10 characters long.\n",
    "\n",
    "\n",
    "def check_password(s):\n",
    "    l,u,n,sc=0,0,0,0\n",
    "    if len(s)>=10:\n",
    "        return \"The length of the password should be 10 characters long\"\n",
    "    for i in s:\n",
    "        if i>='A' and i<='Z':\n",
    "            u+=1\n",
    "        elif i>='a' and i<='z':\n",
    "            l+=1\n",
    "        elif i>='0' and i<='9':\n",
    "            n+=1\n",
    "        else :\n",
    "            sc+=1\n",
    "    else :\n",
    "        if u>=2 and l>=2 and n>=1 and sc>=3 :\n",
    "            return \"Valid password\"\n",
    "    return \"Invalid Password\"\n",
    "        "
   ]
  },
  {
   "cell_type": "code",
   "execution_count": 10,
   "id": "c0d307c3-bb9c-4752-99fd-f4bbf2962b6f",
   "metadata": {},
   "outputs": [
    {
     "name": "stdin",
     "output_type": "stream",
     "text": [
      "enter password 123#%$^jfg!@AS\n"
     ]
    },
    {
     "data": {
      "text/plain": [
       "'Valid password'"
      ]
     },
     "execution_count": 10,
     "metadata": {},
     "output_type": "execute_result"
    }
   ],
   "source": [
    "password = input(\"enter password\")\n",
    "check_password(password)"
   ]
  },
  {
   "cell_type": "code",
   "execution_count": 11,
   "id": "01f1b586-7bdb-4e55-b893-7318316cfc0a",
   "metadata": {},
   "outputs": [],
   "source": [
    "# Q2. Solve the below-given questions using at least one of the following:\n",
    "# 1. Lambda function\n",
    "# 2. Filter function\n",
    "# 3. Map function\n",
    "# 4. List Comprehension\n",
    "\n",
    "\n",
    "#  Check if the string starts with a particular letter\n",
    "#  Check if the string is numeric\n",
    "#  Sort a list of tuples having fruit names and their quantity. [(\"mango\",99),(\"orange\",80), (\"grapes\", 1000)-\n",
    "#  Find the squares of numbers from 1 to 10\n",
    "#  Find the cube root of numbers from 1 to 10\n",
    "#  Check if a given number is even\n",
    "#  Filter odd numbers from the given list.\n",
    "# [1,2,3,4,5,6,7,8,9,10 ]\n",
    "#  Sort a list of integers into positive and negative integers lists.\n",
    "# [1,2,3,4,5,6,-1,-2,-3,-4,-5,0]\n",
    "\n"
   ]
  },
  {
   "cell_type": "code",
   "execution_count": 7,
   "id": "3d86177b-a032-425c-80ff-83f9e7c07974",
   "metadata": {},
   "outputs": [
    {
     "data": {
      "text/plain": [
       "['aman', 'amar', 'abhi']"
      ]
     },
     "execution_count": 7,
     "metadata": {},
     "output_type": "execute_result"
    }
   ],
   "source": [
    "#  Check if the string starts with a particular letter\n",
    "l=[\"aman\",\"amar\",\"abhi\",\"sudh\"]\n",
    "[i for i in l if i[0]=='a' ]"
   ]
  },
  {
   "cell_type": "code",
   "execution_count": 22,
   "id": "8e4d1b64-8b77-4077-ba0c-7dff732115c3",
   "metadata": {},
   "outputs": [
    {
     "name": "stdout",
     "output_type": "stream",
     "text": [
      "True\n"
     ]
    }
   ],
   "source": [
    "#  Check if the string is numeric\n",
    "\n",
    "num=\"122\"\n",
    "s= lambda x:num.isnumeric()\n",
    "print(s(num))"
   ]
  },
  {
   "cell_type": "code",
   "execution_count": 104,
   "id": "2503bf93-60f5-415a-b322-eb9d03c7b602",
   "metadata": {},
   "outputs": [
    {
     "name": "stdout",
     "output_type": "stream",
     "text": [
      "['grapes', 'mango', 'orange']\n",
      "[80, 99, 1000]\n"
     ]
    }
   ],
   "source": [
    "#  Sort a list of tuples having fruit names and their quantity. [(\"mango\",99),(\"orange\",80), (\"grapes\", 1000)\n",
    "l=  [(\"mango\",99),(\"orange\",80), (\"grapes\", 1000)]\n",
    "l1=[]\n",
    "l2=[]\n",
    "list(map(lambda x: l1.extend(x) if type(x)==tuple else none,l))\n",
    "l2= list(filter(lambda y: type(y)==str,l1))\n",
    "l3=list(filter(lambda y: type(y)==int,l1))\n",
    "l2.sort()\n",
    "l3.sort()\n",
    "print(l2)\n",
    "print(l3)"
   ]
  },
  {
   "cell_type": "code",
   "execution_count": 7,
   "id": "d292fd6f-ce09-4df4-be5e-3ef430041bbf",
   "metadata": {},
   "outputs": [
    {
     "data": {
      "text/plain": [
       "[0, 1, 4, 9, 16, 25, 36, 49, 64, 81, 100]"
      ]
     },
     "execution_count": 7,
     "metadata": {},
     "output_type": "execute_result"
    }
   ],
   "source": [
    "#  Find the squares of numbers from 1 to 10\n",
    "l=[i for i in range(11)]\n",
    "[i**2 for i in l]"
   ]
  },
  {
   "cell_type": "code",
   "execution_count": 13,
   "id": "da5b77bf-b39b-4f1c-bbc2-a856a608dc6b",
   "metadata": {},
   "outputs": [
    {
     "data": {
      "text/plain": [
       "[0, 1, 8, 27, 64, 125, 216, 343, 512, 729, 1000]"
      ]
     },
     "execution_count": 13,
     "metadata": {},
     "output_type": "execute_result"
    }
   ],
   "source": [
    "#  Find the cube root of numbers from 1 to 10\n",
    "l=[i for i in range(11)]\n",
    "[i**3 for i in l]"
   ]
  },
  {
   "cell_type": "code",
   "execution_count": 17,
   "id": "78765464-e624-49b9-b808-925f0193dda2",
   "metadata": {},
   "outputs": [
    {
     "data": {
      "text/plain": [
       "True"
      ]
     },
     "execution_count": 17,
     "metadata": {},
     "output_type": "execute_result"
    }
   ],
   "source": [
    "#  Check if a given number is even\n",
    "b= lambda a: a%2==0\n",
    "b(20)"
   ]
  },
  {
   "cell_type": "code",
   "execution_count": 19,
   "id": "dc88db7b-9862-4134-b5d4-13f270b1b2d9",
   "metadata": {},
   "outputs": [
    {
     "data": {
      "text/plain": [
       "[1, 3, 5, 7, 9]"
      ]
     },
     "execution_count": 19,
     "metadata": {},
     "output_type": "execute_result"
    }
   ],
   "source": [
    "#  Filter odd numbers from the given list.\n",
    "l=[1,2,3,4,5,6,7,8,9,10 ]\n",
    "list(filter(lambda x: x%2!=0,l))"
   ]
  },
  {
   "cell_type": "code",
   "execution_count": 41,
   "id": "fdf029f5-306d-47cb-a331-ba9e3339f260",
   "metadata": {},
   "outputs": [],
   "source": [
    "#  Sort a list of integers into positive and negative integers lists.\n",
    "# [1,2,3,4,5,6,-1,-2,-3,-4,-5,0]  \n",
    "l= [1,2,3,4,5,6,-1,-2,-3,-4,-5,0]  \n",
    "l1=[]\n",
    "l2=[]\n",
    "l1=list(filter( lambda x: x>0,l))\n",
    "l2=list(filter( lambda x: x<0,l))"
   ]
  },
  {
   "cell_type": "code",
   "execution_count": 42,
   "id": "214924e1-dfdd-48e3-a649-a3cba298304a",
   "metadata": {},
   "outputs": [
    {
     "data": {
      "text/plain": [
       "[1, 2, 3, 4, 5, 6]"
      ]
     },
     "execution_count": 42,
     "metadata": {},
     "output_type": "execute_result"
    }
   ],
   "source": [
    "l1"
   ]
  },
  {
   "cell_type": "code",
   "execution_count": 43,
   "id": "3144bc44-b4bf-4180-804b-ff859f11f2be",
   "metadata": {},
   "outputs": [
    {
     "data": {
      "text/plain": [
       "[-1, -2, -3, -4, -5]"
      ]
     },
     "execution_count": 43,
     "metadata": {},
     "output_type": "execute_result"
    }
   ],
   "source": [
    "l2"
   ]
  },
  {
   "cell_type": "code",
   "execution_count": null,
   "id": "b43becae-7808-4dfe-b110-5b800ee3138c",
   "metadata": {},
   "outputs": [],
   "source": []
  }
 ],
 "metadata": {
  "kernelspec": {
   "display_name": "Python 3 (ipykernel)",
   "language": "python",
   "name": "python3"
  },
  "language_info": {
   "codemirror_mode": {
    "name": "ipython",
    "version": 3
   },
   "file_extension": ".py",
   "mimetype": "text/x-python",
   "name": "python",
   "nbconvert_exporter": "python",
   "pygments_lexer": "ipython3",
   "version": "3.10.8"
  }
 },
 "nbformat": 4,
 "nbformat_minor": 5
}
