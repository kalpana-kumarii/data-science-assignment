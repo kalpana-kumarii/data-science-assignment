{
 "cells": [
  {
   "cell_type": "code",
   "execution_count": 71,
   "id": "ada1cd01-dab0-4cd9-9e30-5e5a33c91e63",
   "metadata": {},
   "outputs": [],
   "source": [
    "# Q1. Create a function which will take a list as an argument and return the product of all the numbers\n",
    "# after creating a flat list.\n",
    "# Use the below-given list as an argument for your function.\n",
    "# list1 = [1,2,3,4, [44,55,66, True], False, (34,56,78,89,34), {1,2,3,3,2,1}, {1:34, \"key2\": [55, 67, 78, 89], 4: (45,\n",
    "# 22, 61, 34)}, [56, 'data science'], 'Machine Learning']\n",
    "# Note: you must extract numeric keys and values of the dictionary also.\n",
    "l1 = [1,2,3,4, [44,55,66, True], False, (34,56,78,89,34), {1,2,3,3,2,1}, {1:34, \"key2\": [55, 67, 78, 89], 4: (45, 22, 61, 34)}, [56, 'data science'], 'Machine Learning']\n",
    "\n"
   ]
  },
  {
   "cell_type": "code",
   "execution_count": 72,
   "id": "80b0ad1a-8ed5-49e6-aded-194a119353d6",
   "metadata": {},
   "outputs": [
    {
     "data": {
      "text/plain": [
       "[1,\n",
       " 2,\n",
       " 3,\n",
       " 4,\n",
       " [44, 55, 66, True],\n",
       " False,\n",
       " (34, 56, 78, 89, 34),\n",
       " {1, 2, 3},\n",
       " {1: 34, 'key2': [55, 67, 78, 89], 4: (45, 22, 61, 34)},\n",
       " [56, 'data science'],\n",
       " 'Machine Learning']"
      ]
     },
     "execution_count": 72,
     "metadata": {},
     "output_type": "execute_result"
    }
   ],
   "source": [
    "l1"
   ]
  },
  {
   "cell_type": "code",
   "execution_count": 1,
   "id": "16bfa53c-e75e-45ec-8370-b68ae97428aa",
   "metadata": {},
   "outputs": [],
   "source": [
    "def listProduct(l):\n",
    "    l2=[]\n",
    "    for i in l:\n",
    "        if type(i)==list or type(i)==tuple or type(i)==set :\n",
    "            l2.extend(i)\n",
    "        elif type(i)==dict:\n",
    "            l2.extend(i.keys())\n",
    "            for j in i.values():\n",
    "                if type(j)== tuple or type(j)==set or type(j)==list:\n",
    "                    l2.extend(j)\n",
    "                else:\n",
    "                    l2.append(j)\n",
    "        else: \n",
    "            l2.append(i)\n",
    "    pro=1\n",
    "    print(l2)\n",
    "    for i in l2:\n",
    "        if type(i)==int:\n",
    "            pro*=i\n",
    "    return pro"
   ]
  },
  {
   "cell_type": "code",
   "execution_count": 2,
   "id": "62d2aa93-9695-4ebe-861c-806642526b7a",
   "metadata": {},
   "outputs": [
    {
     "name": "stdout",
     "output_type": "stream",
     "text": [
      "[1, 2, 3, 4, 44, 55, 66, True, False, 34, 56, 78, 89, 34, 1, 2, 3, 1, 'key2', 4, 34, 55, 67, 78, 89, 45, 22, 61, 34, 56, 'data science', 'Machine Learning']\n",
      "4134711838987085478833841242112000\n"
     ]
    }
   ],
   "source": [
    "l1 = [1,2,3,4, [44,55,66, True], False, (34,56,78,89,34), {1,2,3,3,2,1}, {1:34, \"key2\": [55, 67, 78, 89], 4: (45, 22, 61, 34)}, [56, 'data science'], 'Machine Learning']\n",
    "print(listProduct(l1))"
   ]
  },
  {
   "cell_type": "code",
   "execution_count": 3,
   "id": "638fb628-ca08-4377-b808-5cfad2b376e8",
   "metadata": {},
   "outputs": [
    {
     "name": "stdout",
     "output_type": "stream",
     "text": [
      "['a', 'b', 'c', 'd', 'e', 'f', 'g', 'h', 'i', 'j', 'k', 'l', 'm', 'n', 'o', 'p', 'q', 'r', 's', 't', 'u', 'v', 'w', 'x', 'y', 'z']\n",
      "['z', 'y', 'x', 'w', 'v', 'u', 't', 's', 'r', 'q', 'p', 'o', 'n', 'm', 'l', 'k', 'j', 'i', 'h', 'g', 'f', 'e', 'd', 'c', 'b', 'a']\n",
      "i want to become a data scientist.\n",
      "26\n",
      "26\n",
      "z\n"
     ]
    }
   ],
   "source": [
    "# Q2. Write a python program for encrypting a message sent to you by your friend. The logic of encryption\n",
    "# should be such that, for a the output should be z. For b, the output should be y. For c, the output should\n",
    "# be x respectively. Also, the whitespace should be replaced with a dollar sign. Keep the punctuation\n",
    "# marks unchanged.\n",
    "# Input Sentence: I want to become a Data Scientist.\n",
    "# Encrypt the above input sentence using the program you just created.\n",
    "# Note: Convert the given input sentence into lowercase before encrypting. The final output should be\n",
    "# lowercase.\n",
    "s=\"I want to become a Data Scientist.\"\n",
    "dict={}\n",
    "l1=[]\n",
    "l2=[]\n",
    "v=97\n",
    "e=122\n",
    "for i in range(26):\n",
    "    l1.append(chr(v))\n",
    "    v=v+1\n",
    "    l2.append(chr(e))\n",
    "    e-=1\n",
    "print(l1)\n",
    "print(l2)\n",
    "s=s.lower()\n",
    "print(s)\n",
    "print(len(l1))\n",
    "print(len(l2))\n",
    "print(l1[25])"
   ]
  },
  {
   "cell_type": "code",
   "execution_count": 5,
   "id": "1eba71ea-c066-4510-adcd-be70a577b75b",
   "metadata": {},
   "outputs": [
    {
     "name": "stdout",
     "output_type": "stream",
     "text": [
      "i want to become a data scientist.\n",
      "r dzmg gl yvxlnv z wzgz hxrvmgrhg.\n"
     ]
    }
   ],
   "source": [
    "s2=\"\"\n",
    "\n",
    "for i in s:\n",
    "    j=0\n",
    "    while j<26:\n",
    "        if i== l1[j]:\n",
    "            s2=s2+l2[j]\n",
    "            break\n",
    "        else:\n",
    "            j+=1\n",
    "    else:\n",
    "        s2=s2+i\n",
    "print(s)\n",
    "print(s2)\n",
    "    "
   ]
  },
  {
   "cell_type": "code",
   "execution_count": 46,
   "id": "d4c80365-f25e-4c4d-aec6-12bfb708b9dc",
   "metadata": {},
   "outputs": [
    {
     "ename": "IndexError",
     "evalue": "list index out of range",
     "output_type": "error",
     "traceback": [
      "\u001b[0;31m---------------------------------------------------------------------------\u001b[0m",
      "\u001b[0;31mIndexError\u001b[0m                                Traceback (most recent call last)",
      "Cell \u001b[0;32mIn[46], line 4\u001b[0m\n\u001b[1;32m      2\u001b[0m i\u001b[38;5;241m=\u001b[39m\u001b[38;5;241m0\u001b[39m\n\u001b[1;32m      3\u001b[0m \u001b[38;5;28;01mwhile\u001b[39;00m i\u001b[38;5;241m<\u001b[39m\u001b[38;5;28mlen\u001b[39m(s):    \n\u001b[0;32m----> 4\u001b[0m     \u001b[38;5;28;01mif\u001b[39;00m s[i]\u001b[38;5;241m==\u001b[39m\u001b[43ml1\u001b[49m\u001b[43m[\u001b[49m\u001b[43mi\u001b[49m\u001b[43m]\u001b[49m:\n\u001b[1;32m      5\u001b[0m         \u001b[38;5;28mprint\u001b[39m(s2, end\u001b[38;5;241m=\u001b[39m\u001b[38;5;124m\"\u001b[39m\u001b[38;5;124m \u001b[39m\u001b[38;5;124m\"\u001b[39m)\n\u001b[1;32m      6\u001b[0m         s2\u001b[38;5;241m=\u001b[39ms2\u001b[38;5;241m+\u001b[39ml2[i]        \n",
      "\u001b[0;31mIndexError\u001b[0m: list index out of range"
     ]
    }
   ],
   "source": [
    "# s2=\"\"\n",
    "# i=0\n",
    "# while i<len(s):    \n",
    "#     if s[i]==l1[i]:\n",
    "#         print(s2, end=\" \")\n",
    "#         s2=s2+l2[i]        \n",
    "#     else:\n",
    "#         s2=s2+s[i]\n",
    "#     i+=1\n",
    "# print(s2)\n",
    "    "
   ]
  },
  {
   "cell_type": "code",
   "execution_count": 37,
   "id": "5ffeb90b-3ffa-4dd7-8da9-f2b1bbfdfe92",
   "metadata": {},
   "outputs": [
    {
     "name": "stdout",
     "output_type": "stream",
     "text": [
      "zbxwvugsrjponmlkqisgfedxbaasd\n"
     ]
    }
   ],
   "source": [
    "print(s2+\"asd\")   "
   ]
  },
  {
   "cell_type": "code",
   "execution_count": 9,
   "id": "bb8ff5d5-2753-45da-b800-1d7a2f95ea89",
   "metadata": {},
   "outputs": [
    {
     "data": {
      "text/plain": [
       "str"
      ]
     },
     "execution_count": 9,
     "metadata": {},
     "output_type": "execute_result"
    }
   ],
   "source": [
    "type(a)"
   ]
  },
  {
   "cell_type": "code",
   "execution_count": 43,
   "id": "bcff8141-a49e-4f6a-bb94-ee43478c3152",
   "metadata": {},
   "outputs": [
    {
     "data": {
      "text/plain": [
       "'abcdefghijklmnopqrstuvwxyz'"
      ]
     },
     "execution_count": 43,
     "metadata": {},
     "output_type": "execute_result"
    }
   ],
   "source": [
    "s2"
   ]
  },
  {
   "cell_type": "code",
   "execution_count": null,
   "id": "439dd6f8-950f-4f0e-beb7-5803848ef5fc",
   "metadata": {},
   "outputs": [],
   "source": []
  }
 ],
 "metadata": {
  "kernelspec": {
   "display_name": "Python 3 (ipykernel)",
   "language": "python",
   "name": "python3"
  },
  "language_info": {
   "codemirror_mode": {
    "name": "ipython",
    "version": 3
   },
   "file_extension": ".py",
   "mimetype": "text/x-python",
   "name": "python",
   "nbconvert_exporter": "python",
   "pygments_lexer": "ipython3",
   "version": "3.10.8"
  }
 },
 "nbformat": 4,
 "nbformat_minor": 5
}
